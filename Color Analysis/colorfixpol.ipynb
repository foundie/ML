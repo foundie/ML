{
 "cells": [
  {
   "cell_type": "code",
   "execution_count": 1,
   "metadata": {},
   "outputs": [],
   "source": [
    "def get_brightness():\n",
    "    brightness_levels = [\"1 (Lightest)\", \"2\", \"3\", \"4\", \"5 (Darkest)\"]\n",
    "    user_choice = int(input(f\"Choose your brightness level (1-5): {brightness_levels}: \"))\n",
    "    brightness_percentage = (6 - user_choice) * 20  # Convert choice to percentage\n",
    "    return brightness_percentage\n"
   ]
  },
  {
   "cell_type": "code",
   "execution_count": 2,
   "metadata": {},
   "outputs": [],
   "source": [
    "def get_warm_cool_preference():\n",
    "    warm_count = 0\n",
    "    cool_count = 0\n",
    "\n",
    "    color_pairs = [\"Blue\", \"Yellow\", \"Green\", \"Pink\", \"Brown\"]\n",
    "    for color in color_pairs:\n",
    "        user_choice = int(input(f\"For {color}, do you prefer 0 (Warm) or 1 (Cool)? \"))\n",
    "        if user_choice == 0:\n",
    "            warm_count += 1\n",
    "        elif user_choice == 1:\n",
    "            cool_count += 1\n",
    "\n",
    "    warm_percentage = (warm_count / len(color_pairs)) * 100\n",
    "    cool_percentage = (cool_count / len(color_pairs)) * 100\n",
    "    return warm_percentage, cool_percentage\n"
   ]
  },
  {
   "cell_type": "code",
   "execution_count": 3,
   "metadata": {},
   "outputs": [],
   "source": [
    "def get_clarity():\n",
    "    clarity_levels = [\"1 (Brightest)\", \"2\", \"3\", \"4\", \"5 (Muted)\"]\n",
    "    user_choice = int(input(f\"Choose your clarity level (1-5): {clarity_levels}: \"))\n",
    "    clarity_percentage = (6 - user_choice) * 20  # Convert choice to percentage\n",
    "    return clarity_percentage\n"
   ]
  },
  {
   "cell_type": "code",
   "execution_count": 4,
   "metadata": {},
   "outputs": [],
   "source": [
    "def determine_characteristics(brightness, warm_percentage, cool_percentage, clarity):\n",
    "    characteristics = {\n",
    "        \"light\": brightness,\n",
    "        \"dark\": 100 - brightness,\n",
    "        \"warm\": warm_percentage,\n",
    "        \"cool\": cool_percentage,\n",
    "        \"bright\": clarity,\n",
    "        \"muted\": 100 - clarity\n",
    "    }\n",
    "\n",
    "    dominant = max(characteristics, key=characteristics.get)\n",
    "    secondary = max((k for k in characteristics if k != dominant), key=characteristics.get)\n",
    "    \n",
    "    # Ensure that the secondary characteristic can only be muted/bright if primary is warm/cool\n",
    "    if dominant in [\"warm\", \"cool\"] and secondary in [\"muted\", \"bright\"]:\n",
    "        secondary = max((k for k in characteristics if k != dominant and k not in [\"muted\", \"bright\"]), key=characteristics.get)\n",
    "\n",
    "    return dominant, secondary, characteristics\n"
   ]
  },
  {
   "cell_type": "code",
   "execution_count": 7,
   "metadata": {},
   "outputs": [],
   "source": [
    "def determine_color_season(dominant, secondary, characteristics):\n",
    "    color_season = {\n",
    "        (\"dark\", \"warm\"): \"Autumn Deep\",\n",
    "        (\"dark\", \"cool\"): \"Winter Deep\",\n",
    "        (\"light\", \"warm\"): \"Spring Light\",\n",
    "        (\"light\", \"cool\"): \"Summer Light\",\n",
    "        (\"muted\", \"warm\"): \"Autumn Soft\",\n",
    "        (\"muted\", \"cool\"): \"Summer Soft\",\n",
    "        (\"bright\", \"warm\"): \"Spring Clear\",\n",
    "        (\"bright\", \"cool\"): \"Winter Clear\",\n",
    "        (\"warm\", \"muted\"): \"Autumn Warm\",\n",
    "        (\"warm\", \"bright\"): \"Spring Warm\",\n",
    "        (\"cool\", \"muted\"): \"Summer Cool\",\n",
    "        (\"cool\", \"bright\"): \"Winter Cool\"\n",
    "    }\n",
    "\n",
    "    season_scores = {\n",
    "        \"Autumn Deep\": 0,\n",
    "        \"Winter Deep\": 0,\n",
    "        \"Spring Light\": 0,\n",
    "        \"Summer Light\": 0,\n",
    "        \"Autumn Soft\": 0,\n",
    "        \"Summer Soft\": 0,\n",
    "        \"Spring Clear\": 0,\n",
    "        \"Winter Clear\": 0,\n",
    "        \"Autumn Warm\": 0,\n",
    "        \"Spring Warm\": 0,\n",
    "        \"Summer Cool\": 0,\n",
    "        \"Winter Cool\": 0\n",
    "    }\n",
    "\n",
    "    for (dom, sec), season in color_season.items():\n",
    "        season_scores[season] += characteristics[dom] * 0.6 + characteristics[sec] * 0.4\n",
    "\n",
    "    total_score = sum(season_scores.values())\n",
    "    season_percentages = {season: round((score / total_score) * 100) for season, score in season_scores.items()}\n",
    "\n",
    "    # Determine the most compatible season\n",
    "    season = max(season_scores, key=season_scores.get)\n",
    "\n",
    "    return season, season_percentages\n"
   ]
  },
  {
   "cell_type": "code",
   "execution_count": 8,
   "metadata": {},
   "outputs": [
    {
     "name": "stdout",
     "output_type": "stream",
     "text": [
      "Welcome to the Color Analysis Recommender System!\n",
      "Your dominant characteristic is: light\n",
      "Your secondary characteristic is: muted\n",
      "Your color season is: Summer Light\n",
      "Season compatibility percentages: {'Autumn Deep': 5, 'Winter Deep': 6, 'Spring Light': 11, 'Summer Light': 12, 'Autumn Soft': 11, 'Summer Soft': 12, 'Spring Clear': 5, 'Winter Clear': 6, 'Autumn Warm': 9, 'Spring Warm': 5, 'Summer Cool': 11, 'Winter Cool': 7}\n"
     ]
    }
   ],
   "source": [
    "def color_analysis_recommender():\n",
    "    print(\"Welcome to the Color Analysis Recommender System!\")\n",
    "    \n",
    "    brightness = get_brightness()\n",
    "    warm_percentage, cool_percentage = get_warm_cool_preference()\n",
    "    clarity = get_clarity()\n",
    "\n",
    "    dominant, secondary, characteristics = determine_characteristics(brightness, warm_percentage, cool_percentage, clarity)\n",
    "    \n",
    "    season, season_percentages = determine_color_season(dominant, secondary, characteristics)\n",
    "\n",
    "    print(f\"Your dominant characteristic is: {dominant}\")\n",
    "    print(f\"Your secondary characteristic is: {secondary}\")\n",
    "    print(f\"Your color season is: {season}\")\n",
    "    print(f\"Season compatibility percentages: {season_percentages}\")\n",
    "\n",
    "# Run the recommender system\n",
    "color_analysis_recommender()\n"
   ]
  }
 ],
 "metadata": {
  "kernelspec": {
   "display_name": "Python 3",
   "language": "python",
   "name": "python3"
  },
  "language_info": {
   "codemirror_mode": {
    "name": "ipython",
    "version": 3
   },
   "file_extension": ".py",
   "mimetype": "text/x-python",
   "name": "python",
   "nbconvert_exporter": "python",
   "pygments_lexer": "ipython3",
   "version": "3.12.0"
  }
 },
 "nbformat": 4,
 "nbformat_minor": 2
}
