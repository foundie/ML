{
 "cells": [
  {
   "cell_type": "code",
   "execution_count": 13,
   "metadata": {},
   "outputs": [],
   "source": [
    "def get_brightness():\n",
    "    brightness_levels = [\"1 (Lightest)\", \"2\", \"3\", \"4\", \"5 (Darkest)\"]\n",
    "    user_choice = int(input(f\"Choose your brightness level (1-5): {brightness_levels}: \"))\n",
    "    brightness_percentage = (6 - user_choice) * 20  # Convert choice to percentage\n",
    "    return brightness_percentage\n"
   ]
  },
  {
   "cell_type": "code",
   "execution_count": 14,
   "metadata": {},
   "outputs": [],
   "source": [
    "def get_warm_cool_preference():\n",
    "    warm_cool_choices = [\"Warm\", \"Cool\"]\n",
    "    warm_count = 0\n",
    "    cool_count = 0\n",
    "\n",
    "    color_pairs = [\"Blue\", \"Yellow\", \"Green\", \"Pink\", \"Brown\"]\n",
    "    for color in color_pairs:\n",
    "        user_choice = input(f\"For {color}, do you prefer Warm or Cool? ({warm_cool_choices}): \")\n",
    "        if user_choice.lower() == \"warm\":\n",
    "            warm_count += 1\n",
    "        elif user_choice.lower() == \"cool\":\n",
    "            cool_count += 1\n",
    "\n",
    "    warm_percentage = (warm_count / 5) * 100\n",
    "    cool_percentage = (cool_count / 5) * 100\n",
    "    return warm_percentage, cool_percentage\n"
   ]
  },
  {
   "cell_type": "code",
   "execution_count": 15,
   "metadata": {},
   "outputs": [],
   "source": [
    "def get_clarity():\n",
    "    clarity_levels = [\"1 (Brightest)\", \"2\", \"3\", \"4\", \"5 (Muted)\"]\n",
    "    user_choice = int(input(f\"Choose your clarity level (1-5): {clarity_levels}: \"))\n",
    "    clarity_percentage = (6 - user_choice) * 20  # Convert choice to percentage\n",
    "    return clarity_percentage\n"
   ]
  },
  {
   "cell_type": "code",
   "execution_count": 16,
   "metadata": {},
   "outputs": [],
   "source": [
    "def determine_characteristics(brightness, warm_percentage, cool_percentage, clarity):\n",
    "    characteristics = {\n",
    "        \"light\": brightness,\n",
    "        \"dark\": 100 - brightness,\n",
    "        \"warm\": warm_percentage,\n",
    "        \"cool\": cool_percentage,\n",
    "        \"bright\": clarity,\n",
    "        \"muted\": 100 - clarity\n",
    "    }\n",
    "\n",
    "    dominant = max(characteristics, key=characteristics.get)\n",
    "    secondary = max((k for k in characteristics if k != dominant), key=characteristics.get)\n",
    "    \n",
    "    # Ensure that the secondary characteristic can only be muted/bright if primary is warm/cool\n",
    "    if dominant in [\"warm\", \"cool\"] and secondary in [\"muted\", \"bright\"]:\n",
    "        secondary = max((k for k in characteristics if k != dominant and k not in [\"muted\", \"bright\"]), key=characteristics.get)\n",
    "\n",
    "    return dominant, secondary, characteristics\n"
   ]
  },
  {
   "cell_type": "code",
   "execution_count": 17,
   "metadata": {},
   "outputs": [],
   "source": [
    "def determine_color_season(dominant, secondary, characteristics):\n",
    "    color_season = {\n",
    "        (\"dark\", \"warm\"): \"Dark Autumn\",\n",
    "        (\"dark\", \"cool\"): \"Dark Winter\",\n",
    "        (\"light\", \"warm\"): \"Light Spring\",\n",
    "        (\"light\", \"cool\"): \"Light Summer\",\n",
    "        (\"muted\", \"warm\"): \"Muted Autumn\",\n",
    "        (\"muted\", \"cool\"): \"Muted Summer\",\n",
    "        (\"bright\", \"warm\"): \"Bright Spring\",\n",
    "        (\"bright\", \"cool\"): \"Bright Winter\",\n",
    "        (\"warm\", \"muted\"): \"Warm Autumn\",\n",
    "        (\"warm\", \"bright\"): \"Warm Spring\",\n",
    "        (\"cool\", \"muted\"): \"Cool Summer\",\n",
    "        (\"cool\", \"bright\"): \"Cool Winter\"\n",
    "    }\n",
    "\n",
    "    season_scores = {\n",
    "        \"Dark Autumn\": 0,\n",
    "        \"Dark Winter\": 0,\n",
    "        \"Light Spring\": 0,\n",
    "        \"Light Summer\": 0,\n",
    "        \"Muted Autumn\": 0,\n",
    "        \"Muted Summer\": 0,\n",
    "        \"Bright Spring\": 0,\n",
    "        \"Bright Winter\": 0,\n",
    "        \"Warm Autumn\": 0,\n",
    "        \"Warm Spring\": 0,\n",
    "        \"Cool Summer\": 0,\n",
    "        \"Cool Winter\": 0\n",
    "    }\n",
    "\n",
    "    for (dom, sec), season in color_season.items():\n",
    "        season_scores[season] += characteristics[dom] * 0.6 + characteristics[sec] * 0.4\n",
    "\n",
    "    total_score = sum(season_scores.values())\n",
    "    season_percentages = {season: (score / total_score) * 100 for season, score in season_scores.items()}\n",
    "\n",
    "    # Determine the most compatible season\n",
    "    season = max(season_scores, key=season_scores.get)\n",
    "\n",
    "    return season, season_percentages\n"
   ]
  },
  {
   "cell_type": "code",
   "execution_count": 18,
   "metadata": {},
   "outputs": [
    {
     "name": "stdout",
     "output_type": "stream",
     "text": [
      "Welcome to the Color Analysis Recommender System!\n",
      "Your dominant characteristic is: light\n",
      "Your secondary characteristic is: warm\n",
      "Your color season is: Light Spring\n",
      "Season compatibility percentages: {'Dark Autumn': 6.0, 'Dark Winter': 4.666666666666667, 'Light Spring': 12.0, 'Light Summer': 10.666666666666668, 'Muted Autumn': 10.0, 'Muted Summer': 8.666666666666668, 'Bright Spring': 8.0, 'Bright Winter': 6.666666666666667, 'Warm Autumn': 10.0, 'Warm Spring': 8.666666666666668, 'Cool Summer': 8.0, 'Cool Winter': 6.666666666666667}\n"
     ]
    }
   ],
   "source": [
    "def color_analysis_recommender():\n",
    "    print(\"Welcome to the Color Analysis Recommender System!\")\n",
    "    \n",
    "    brightness = get_brightness()\n",
    "    warm_percentage, cool_percentage = get_warm_cool_preference()\n",
    "    clarity = get_clarity()\n",
    "\n",
    "    dominant, secondary, characteristics = determine_characteristics(brightness, warm_percentage, cool_percentage, clarity)\n",
    "    \n",
    "    season, season_percentages = determine_color_season(dominant, secondary, characteristics)\n",
    "\n",
    "    print(f\"Your dominant characteristic is: {dominant}\")\n",
    "    print(f\"Your secondary characteristic is: {secondary}\")\n",
    "    print(f\"Your color season is: {season}\")\n",
    "    print(f\"Season compatibility percentages: {season_percentages}\")\n",
    "\n",
    "# Run the recommender system\n",
    "color_analysis_recommender()\n"
   ]
  }
 ],
 "metadata": {
  "kernelspec": {
   "display_name": "Python 3",
   "language": "python",
   "name": "python3"
  },
  "language_info": {
   "codemirror_mode": {
    "name": "ipython",
    "version": 3
   },
   "file_extension": ".py",
   "mimetype": "text/x-python",
   "name": "python",
   "nbconvert_exporter": "python",
   "pygments_lexer": "ipython3",
   "version": "3.12.0"
  }
 },
 "nbformat": 4,
 "nbformat_minor": 2
}
