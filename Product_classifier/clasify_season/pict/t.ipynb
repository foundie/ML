{
 "cells": [
  {
   "cell_type": "code",
   "execution_count": 24,
   "metadata": {},
   "outputs": [
    {
     "data": {
      "image/png": "[encoded data removed]",
      "text/plain": [
       "<Figure size 1000x300 with 1 Axes>"
      ]
     },
     "metadata": {},
     "output_type": "display_data"
    }
   ],
   "source": [
    "import matplotlib.pyplot as plt\n",
    "import numpy as np\n",
    "\n",
    "# Data warna untuk winter cool berdasarkan tabel yang diberikan\n",
    "colors_winter_cool = [\n",
    "    ('winter cool', [25, 87, 190]),\n",
    "    ('winter cool', [51, 148, 205]),\n",
    "    ('winter cool', [169, 156, 190]),\n",
    "    ('winter cool', [0, 86, 95]),\n",
    "    ('winter cool', [134, 42, 91]),\n",
    "    ('winter cool', [255, 233, 242]),\n",
    "    ('winter cool', [167, 167, 167]),\n",
    "    ('winter cool', [37, 42, 95]),\n",
    "    ('winter cool', [111, 71, 134]),\n",
    "    ('winter cool', [255, 255, 255])\n",
    "]\n",
    "\n",
    "# Membuat plot\n",
    "fig, ax = plt.subplots(figsize=(10, 3))  # Mengatur ukuran plot\n",
    "\n",
    "# Mengonversi data warna menjadi array numpy untuk imshow\n",
    "rgb_values_winter_cool = np.array([rgb for season, rgb in colors_winter_cool]) / 255.0\n",
    "\n",
    "# Menggambar heatmap persegi (kotak) untuk setiap warna\n",
    "ax.imshow(rgb_values_winter_cool.reshape(1, -1, 3), aspect='auto', extent=[0, len(colors_winter_cool), 0, 1])\n",
    "\n",
    "# Menghilangkan label sumbu x dan y\n",
    "ax.set_xticks([])\n",
    "ax.set_yticks([])\n",
    "\n",
    "# Menambahkan judul di tengah atas plot\n",
    "plt.title('Winter Cool Colors', fontsize=16, ha='center')\n",
    "\n",
    "# Menghapus batas-batas plot yang tidak diperlukan\n",
    "plt.box(False)\n",
    "\n",
    "# Menyimpan gambar sebagai file PNG\n",
    "plt.savefig('Winter Cool.png', bbox_inches='tight')\n",
    "\n",
    "# Menampilkan plot jika diinginkan\n",
    "plt.show()\n"
   ]
  },
  {
   "cell_type": "code",
   "execution_count": null,
   "metadata": {},
   "outputs": [],
   "source": []
  }
 ],
 "metadata": {
  "kernelspec": {
   "display_name": "Python 3",
   "language": "python",
   "name": "python3"
  },
  "language_info": {
   "codemirror_mode": {
    "name": "ipython",
    "version": 3
   },
   "file_extension": ".py",
   "mimetype": "text/x-python",
   "name": "python",
   "nbconvert_exporter": "python",
   "pygments_lexer": "ipython3",
   "version": "3.11.4"
  }
 },
 "nbformat": 4,
 "nbformat_minor": 2
}
