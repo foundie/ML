{
 "cells": [
  {
   "cell_type": "code",
   "execution_count": 11,
   "metadata": {},
   "outputs": [
    {
     "name": "stdout",
     "output_type": "stream",
     "text": [
      "Variant Name: Olive Beige\n",
      "Color HEX: #DFA880\n",
      "Variant Name: Pink Fair\n",
      "Color HEX: #F3C4BF\n",
      "Variant Name: Light Ivory\n",
      "Color HEX: #F0BF9B\n",
      "Variant Name: Warm Ivory\n",
      "Color HEX: #f6ddc2\n",
      "Variant Name: Neutral Beige\n",
      "Color HEX: #D5A286\n",
      "Variant Name: Neutral Sand\n",
      "Color HEX: #D8A380\n",
      "Variant Name: Golden Sand\n",
      "Color HEX: #DD9767\n",
      "Variant Name: Almond\n",
      "Color HEX: #A6631B\n"
     ]
    }
   ],
   "source": [
    "import requests\n",
    "from bs4 import BeautifulSoup\n",
    "\n",
    "#COLORFIT VELVET POWDER FOUNDATION\n",
    "\n",
    "def scrape_product_colors_foundation(product_url):\n",
    "    # Lakukan HTTP GET request untuk halaman produk\n",
    "    response = requests.get(product_url)\n",
    "    \n",
    "    # Periksa apakah responsenya berhasil\n",
    "    if response.status_code == 200:\n",
    "        # Parsing HTML content\n",
    "        soup = BeautifulSoup(response.content, 'html.parser')\n",
    "        \n",
    "        # Mencari elemen dengan kelas 'item-variant' yang mengandung informasi tentang warna\n",
    "        variant_elements = soup.find_all('div', class_='item-variant')\n",
    "        \n",
    "        # Inisialisasi dictionary untuk menyimpan data\n",
    "        color_data = {}\n",
    "\n",
    "        # Loop melalui setiap elemen variant\n",
    "        for variant in variant_elements:\n",
    "            # Ekstrak nama varian (mis. \"Neutral Sand\" atau \"Warm Ivory\")\n",
    "            variant_name = variant.get('data-variantname')\n",
    "\n",
    "            # Ekstrak kode HEX warna\n",
    "            color_hex = variant.find('div', class_='color-area')['style'].split(':')[-1].strip()\n",
    "\n",
    "            # Simpan data dalam dictionary\n",
    "            color_data[variant_name] = color_hex\n",
    "\n",
    "        return color_data\n",
    "    else:\n",
    "        print(\"Failed to fetch the product page. Status code:\", response.status_code)\n",
    "        return None\n",
    "\n",
    "# URL halaman produk\n",
    "product_url = \"https://www.wardahbeauty.com/id/product/make-up/wardah-colorfit-velvet-powder-foundation?ref=https://www.wardahbeauty.com/id/product/list/make-up/sort/all?page=1\"\n",
    "\n",
    "# Panggil fungsi scraping dan simpan hasilnya\n",
    "product_colors = scrape_product_colors_foundation(product_url)\n",
    "\n",
    "# Cetak data yang diekstrak\n",
    "if product_colors:\n",
    "    for variant_name, color_hex in product_colors.items():\n",
    "        print(\"Variant Name:\", variant_name)\n",
    "        print(\"Color HEX:\", color_hex)\n",
    "else:\n",
    "    print(\"Scraping failed.\")\n"
   ]
  },
  {
   "cell_type": "code",
   "execution_count": 12,
   "metadata": {},
   "outputs": [
    {
     "name": "stdout",
     "output_type": "stream",
     "text": [
      "Variant Name: 01 Pink Fair (11C)\n",
      "Color HEX: #f3dad0\n",
      "Variant Name: 02 Neutral Beige (32N)\n",
      "Color HEX: #eac5a2\n",
      "Variant Name: 03 Golden Sand (43W)\n",
      "Color HEX: #f3b98c\n"
     ]
    }
   ],
   "source": [
    "\n",
    "# URL halaman produk\n",
    "product_url = \"https://www.wardahbeauty.com/id/product/make-up/wardah-lightening-liquid-concealer?ref=https://www.wardahbeauty.com/id/product/list/make-up/sort/all?page=1\"\n",
    "\n",
    "# Panggil fungsi scraping dan simpan hasilnya\n",
    "product_colors = scrape_product_colors_foundation(product_url)\n",
    "\n",
    "# Cetak data yang diekstrak\n",
    "if product_colors:\n",
    "    for variant_name, color_hex in product_colors.items():\n",
    "        print(\"Variant Name:\", variant_name)\n",
    "        print(\"Color HEX:\", color_hex)\n",
    "else:\n",
    "    print(\"Scraping failed.\")"
   ]
  },
  {
   "cell_type": "code",
   "execution_count": 13,
   "metadata": {},
   "outputs": [
    {
     "name": "stdout",
     "output_type": "stream",
     "text": [
      "Variant Name: 11C Pink Fair\n",
      "Color HEX: #F3C4BF\n",
      "Variant Name: 22N Light Ivory\n",
      "Color HEX: #F0BF9B\n",
      "Variant Name: 23W Warm Ivory\n",
      "Color HEX: #ECBA93\n",
      "Variant Name: 32N Neutral Beige\n",
      "Color HEX: #D5A286\n"
     ]
    }
   ],
   "source": [
    "\n",
    "# URL halaman produk\n",
    "product_url = \"https://www.wardahbeauty.com/id/product/make-up/refill-colorfit-perfect-glow-cushion-spf-33-pa?ref=https://www.wardahbeauty.com/id/product/list/make-up/sort/all?page=2\"\n",
    "\n",
    "# Panggil fungsi scraping dan simpan hasilnya\n",
    "product_colors = scrape_product_colors_foundation(product_url)\n",
    "\n",
    "# Cetak data yang diekstrak\n",
    "if product_colors:\n",
    "    for variant_name, color_hex in product_colors.items():\n",
    "        print(\"Variant Name:\", variant_name)\n",
    "        print(\"Color HEX:\", color_hex)\n",
    "else:\n",
    "    print(\"Scraping failed.\")"
   ]
  },
  {
   "cell_type": "code",
   "execution_count": 14,
   "metadata": {},
   "outputs": [
    {
     "name": "stdout",
     "output_type": "stream",
     "text": [
      "Data telah disimpan dalam file wardah_product_colors.csv\n"
     ]
    }
   ],
   "source": [
    "import requests\n",
    "from bs4 import BeautifulSoup\n",
    "import pandas as pd\n",
    "\n",
    "def scrape_product_colors_lip(product_url):\n",
    "    # Lakukan HTTP GET request untuk halaman produk\n",
    "    response = requests.get(product_url)\n",
    "    \n",
    "    # Periksa apakah responsenya berhasil\n",
    "    if response.status_code == 200:\n",
    "        # Parsing HTML content\n",
    "        soup = BeautifulSoup(response.content, 'html.parser')\n",
    "        \n",
    "        # Mencari elemen dengan kelas 'item-variant' yang mengandung informasi tentang warna\n",
    "        variant_elements = soup.find_all('div', class_='item-variant')\n",
    "        \n",
    "        # Inisialisasi daftar untuk menyimpan data\n",
    "        color_data = []\n",
    "\n",
    "        # Loop melalui setiap elemen variant\n",
    "        for variant in variant_elements:\n",
    "            # Ekstrak nama varian\n",
    "            variant_name = variant.get('data-variantname')\n",
    "\n",
    "            # Ekstrak kode HEX warna\n",
    "            color_hex = variant.find('div', class_='color-area')['style'].split(':')[-1].strip()\n",
    "\n",
    "            # Simpan data dalam dictionary\n",
    "            color_data.append({\n",
    "                'Variant Name': variant_name,\n",
    "                'Color HEX': color_hex\n",
    "            })\n",
    "\n",
    "        return color_data\n",
    "    else:\n",
    "        print(\"Failed to fetch the product page. Status code:\", response.status_code)\n",
    "        return None\n",
    "\n",
    "# URL halaman produk\n",
    "product_url = \"https://www.wardahbeauty.com/id/product/make-up/matte-lip-cream?ref=https://www.wardahbeauty.com/id/product/list/make-up/sort/all?page=1\"\n",
    "\n",
    "# Panggil fungsi scraping dan simpan hasilnya\n",
    "product_colors = scrape_product_colors(product_url)\n",
    "\n",
    "# Simpan hasil ke file CSV\n",
    "if product_colors:\n",
    "    df = pd.DataFrame(product_colors)\n",
    "    df.to_csv('wardah_product_colors.csv', index=False)\n",
    "    print(\"Data telah disimpan dalam file wardah_product_colors.csv\")\n",
    "else:\n",
    "    print(\"Scraping failed.\")\n"
   ]
  },
  {
   "cell_type": "code",
   "execution_count": 15,
   "metadata": {},
   "outputs": [
    {
     "name": "stdout",
     "output_type": "stream",
     "text": [
      "Variant Name: 11C Pink Fair\n",
      "Color HEX: #F3C4BF\n",
      "Variant Name: 22N Light Ivory\n",
      "Color HEX: #F0BF9B\n",
      "Variant Name: 23W Warm Ivory\n",
      "Color HEX: #ECBA93\n",
      "Variant Name: 32N Neutral Beige\n",
      "Color HEX: #D5A286\n"
     ]
    }
   ],
   "source": [
    "# URL halaman produk\n",
    "product_url = \"https://www.wardahbeauty.com/id/product/make-up/refill-colorfit-perfect-glow-cushion-spf-33-pa?ref=https://www.wardahbeauty.com/id/product/list/make-up/sort/all?page=2\"\n",
    "\n",
    "# Panggil fungsi scraping dan simpan hasilnya\n",
    "product_colors = scrape_product_colors_foundation(product_url)\n",
    "\n",
    "# Cetak data yang diekstrak\n",
    "if product_colors:\n",
    "    for variant_name, color_hex in product_colors.items():\n",
    "        print(\"Variant Name:\", variant_name)\n",
    "        print(\"Color HEX:\", color_hex)\n",
    "else:\n",
    "    print(\"Scraping failed.\")"
   ]
  }
 ],
 "metadata": {
  "kernelspec": {
   "display_name": "Python 3",
   "language": "python",
   "name": "python3"
  },
  "language_info": {
   "codemirror_mode": {
    "name": "ipython",
    "version": 3
   },
   "file_extension": ".py",
   "mimetype": "text/x-python",
   "name": "python",
   "nbconvert_exporter": "python",
   "pygments_lexer": "ipython3",
   "version": "3.11.4"
  }
 },
 "nbformat": 4,
 "nbformat_minor": 2
}
